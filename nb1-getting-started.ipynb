{
 "cells": [
  {
   "cell_type": "markdown",
   "metadata": {},
   "source": [
    "# Jupyter Notebook 1: Getting Started\n",
    "\n",
    "This is a Jupyter Notebook, a useful tool for organizing code, data analyses, and writing programming reports! Jupyter Notebooks can handle programming in many languages such as Python, Java, R, MATLAB, and many more. In this course we will use Jupyter Notebooks to train machine learning models in Python. Before we can do that we need to learn some Python programming.\n",
    "\n",
    "**Acknowledgment:** This assignment was created with the help of GitHub Copilot and some exercises were inspired by Nichola Lacey's *Python by Example*."
   ]
  },
  {
   "cell_type": "markdown",
   "metadata": {},
   "source": [
    "## Markdown Cells\n",
    "Jupyter Notebooks has two types of cells: Code and Markdown. This cell and the one above are Markdown cells. They're useful for writing text. "
   ]
  },
  {
   "cell_type": "markdown",
   "metadata": {},
   "source": [
    "### **Problem 1**\n",
    "In the empty Markdown cell below, write one to two sentences describing your background with programming. Be sure to mention whether or not you have experience with Python or Jupyter Notebooks."
   ]
  },
  {
   "cell_type": "markdown",
   "metadata": {},
   "source": []
  },
  {
   "cell_type": "markdown",
   "metadata": {},
   "source": [
    "## Code Cells\n",
    "As you may have guessed, a Code cell is for programming. Below is an example of such a cell and some Python code! Run the cell below by clicking into it and pressing Ctrl+Enter on your keyboard or clicking on the Execute button to the left of the Code cell.\n",
    "\n",
    "**Note:** If this is your first time running a Code cell, you may need to select a Kernel. Selecting a Kernel informs your Jupyter Notebook what language you are programming in. To select a Kernel, click on the Kernel button in the top right of your notebook and choose the latest version of Python (any version 3.9 or newer should work fine). If in the top right you see \"Python\" followed by some numbers or something else, that means you've already selected a Kernel--just make sure it says Python 3.9 or a newer version. If it does not, click on it and change it."
   ]
  },
  {
   "cell_type": "code",
   "execution_count": 24,
   "metadata": {},
   "outputs": [
    {
     "name": "stdout",
     "output_type": "stream",
     "text": [
      "Hello, and welcome to this introduction to Python and Jupyter Notebooks!\n"
     ]
    }
   ],
   "source": [
    "# This is a comment. Comments are helpful for explaining what your code does, and are not executed by the Python interpreter.\n",
    "\n",
    "welcome_message = 'Hello, and welcome to this introduction to Python and Jupyter Notebooks!' # This is a string variable\n",
    "\n",
    "print(welcome_message) # This is a print statement"
   ]
  },
  {
   "cell_type": "markdown",
   "metadata": {},
   "source": [
    "### **Problem 2**\n",
    "Write your own string variable with the message \"Hello World!\" and print it out in the Code cell below."
   ]
  },
  {
   "cell_type": "code",
   "execution_count": null,
   "metadata": {},
   "outputs": [],
   "source": []
  },
  {
   "cell_type": "markdown",
   "metadata": {},
   "source": [
    "## Numbers\n",
    "We've seen string variables, which are helpful for storing text. What about numbers? Well, there are multiple number variable types in Python."
   ]
  },
  {
   "cell_type": "markdown",
   "metadata": {
    "vscode": {
     "languageId": "markdown"
    }
   },
   "source": [
    "### Number Types in Python\n",
    "\n",
    "Python supports several types of numbers, each with its own characteristics and uses. Here are the main types:\n",
    "\n",
    "1. **Integers (int)**:\n",
    "    - Whole numbers, positive or negative, without a decimal point.\n",
    "    - Example: `5`, `-3`, `42`\n",
    "\n",
    "2. **Floating Point Numbers (float)**:\n",
    "    - Numbers that contain a decimal point.\n",
    "    - Used for representing real numbers.\n",
    "    - Example: `3.14`, `-0.001`, `2.0`\n",
    "    - **Warning**: Not every real number can be represented as a floating point number. For example, we can only approximate $\\pi$ up to a certain number of decimal places.\n",
    "\n",
    "3. **Complex Numbers (complex)**:\n",
    "    - Numbers with a real and an imaginary part.\n",
    "    - Represented as `a + bj`, where `a` is the real part and `b` is the imaginary part.\n",
    "    - Example: `3 + 4j`, `-2 + 0.5j`\n",
    "\n",
    "4. **Booleans (bool)**:\n",
    "    - Represents truth values: `True` or `False`.\n",
    "    - Internally, `True` is treated as `1` and `False` as `0`.\n",
    "    - Example: `True`, `False`\n",
    "\n",
    "Let's practice using numbers with some arithmetic."
   ]
  },
  {
   "cell_type": "code",
   "execution_count": 25,
   "metadata": {},
   "outputs": [
    {
     "name": "stdout",
     "output_type": "stream",
     "text": [
      "z=10.0 and w=14\n",
      "\n",
      "49\n",
      "3\n"
     ]
    }
   ],
   "source": [
    "x = 7 # This is an integer variable\n",
    "y = 3.0 # This is a float variable\n",
    "\n",
    "z = x + y # This is a float variable\n",
    "w = x * 2 # This is an integer variable\n",
    "\n",
    "print(f'z={z} and w={w}\\n') # This is a print statement with an f-string, which allows you to insert variables into a string\n",
    "# \"\\n\" is a special character that creates a new line\n",
    "print(x**2) # This is an exponentiation operation\n",
    "print(x//2) # This is an integer division operation"
   ]
  },
  {
   "cell_type": "markdown",
   "metadata": {},
   "source": [
    "### **Problem 3**\n",
    "\n",
    "Create a Code cell and compute and print out the following:\n",
    "\n",
    "1. $(1 + x)\\cdot (-3)$\n",
    "\n",
    "2. $(3-2i)(5+7i)$\n",
    "\n",
    "3. $x \\div y$\n",
    "\n",
    "After that, create a Markdown cell and write a sentence explaining the difference between the numbers '1' and '1.0' in Python."
   ]
  },
  {
   "cell_type": "markdown",
   "metadata": {
    "vscode": {
     "languageId": "markdown"
    }
   },
   "source": [
    "## If/Else Statements\n",
    "\n",
    "If/else statements are used for decision-making in Python. They allow you to execute certain blocks of code based on whether a condition is true or false.\n",
    "\n",
    "- **If Statement**: The `if` statement evaluates a condition. If the condition is true, the code block under the `if` statement is executed.\n",
    "- **Else Statement**: The `else` statement follows an `if` statement and is executed if the `if` condition is false.\n",
    "- **Elif Statement**: The `elif` (short for \"else if\") statement allows you to check multiple conditions. If the `if` condition is false, the `elif` condition is evaluated. You can have multiple `elif` statements.\n",
    "\n",
    "Here's a basic example:\n"
   ]
  },
  {
   "cell_type": "code",
   "execution_count": 26,
   "metadata": {},
   "outputs": [
    {
     "name": "stdout",
     "output_type": "stream",
     "text": [
      "n=9\n",
      "n is an odd integer that is not 3 or 5.\n"
     ]
    }
   ],
   "source": [
    "n = int(input('Input an integer value.')) # This is an input statement that waits for the user to provide an input\n",
    "print(f'n={n}')\n",
    "\n",
    "if not isinstance(n, int): # This is an if statement that checks if x is an integer\n",
    "    print('Error: please enter an integer value for n.') # This is a print statement\n",
    "else:\n",
    "    if n % 2 == 0:\n",
    "        print('n is even.')\n",
    "    elif n == 3:\n",
    "        print('n is 3.')\n",
    "    elif n == 5:\n",
    "        print('n is 5.')\n",
    "    else:\n",
    "        print('n is an odd integer that is not 3 or 5.')"
   ]
  },
  {
   "cell_type": "markdown",
   "metadata": {},
   "source": [
    "### **Problem 4**\n",
    "\n",
    "Write code that ask a user to input a number. If it is under 10, display the message \"Too low\", if their number is between 10 and 20, display \"Correct\", otherwise display \"Too high\"."
   ]
  },
  {
   "cell_type": "code",
   "execution_count": null,
   "metadata": {},
   "outputs": [],
   "source": []
  },
  {
   "cell_type": "markdown",
   "metadata": {
    "vscode": {
     "languageId": "markdown"
    }
   },
   "source": [
    "## Loops\n",
    "\n",
    "Loops are a fundamental concept in programming that allow you to execute a block of code multiple times. Python supports two main types of loops: `for` loops and `while` loops.\n",
    "\n",
    "1. **For Loops**:\n",
    "    - Used for iterating over a sequence (such as a list, tuple, dictionary, set, or string).\n",
    "    - Syntax:\n",
    "      ```python\n",
    "      for element in sequence:\n",
    "          # code block to be executed\n",
    "      ```\n",
    "    - Example:\n",
    "      ```python\n",
    "      for i in range(5):\n",
    "          print(i)\n",
    "      ```\n",
    "\n",
    "2. **While Loops**:\n",
    "    - Repeatedly execute a block of code as long as a condition is true.\n",
    "    - Syntax:\n",
    "      ```python\n",
    "      while condition:\n",
    "          # code block to be executed\n",
    "      ```\n",
    "    - Example:\n",
    "      ```python\n",
    "      count = 0\n",
    "      while count < 5:\n",
    "          print(count)\n",
    "          count += 1\n",
    "      ```\n",
    "\n",
    "Loops are useful for tasks that require repetitive actions, such as processing items in a list, generating sequences, or performing operations until a certain condition is met."
   ]
  },
  {
   "cell_type": "code",
   "execution_count": 27,
   "metadata": {},
   "outputs": [
    {
     "name": "stdout",
     "output_type": "stream",
     "text": [
      "0\n",
      "1\n",
      "2\n",
      "3\n",
      "4\n"
     ]
    }
   ],
   "source": [
    "for i in range(5): # This is a for loop that iterates over a range of values\n",
    "    print(i)"
   ]
  },
  {
   "cell_type": "markdown",
   "metadata": {},
   "source": [
    "### **Problem 5**\n",
    "\n",
    "In the Markdown box below, write a sentence describing what the function `range(k)` does for a positive integer ``k``. Be sure to mention the \"start\" and \"end\" numberin terms of ``k``."
   ]
  },
  {
   "cell_type": "markdown",
   "metadata": {},
   "source": []
  },
  {
   "cell_type": "markdown",
   "metadata": {},
   "source": [
    "### **Problem 6**\n",
    "\n",
    "Ask for a number below 50 and then count down from 50 to that number, making sure you show the number they entered in the output."
   ]
  },
  {
   "cell_type": "code",
   "execution_count": null,
   "metadata": {},
   "outputs": [],
   "source": []
  },
  {
   "cell_type": "markdown",
   "metadata": {},
   "source": [
    "### **Problem 7**\n",
    "\n",
    "Ask the user to enter a number between 10 and 20. If they enter a value under 10, display the message \"Too low\" and ask them to try again. If they enter a value above 20, display the message \"Too high\" and ask them to try again. Keep repeating this until they enter a value that is between 10 and 20 and then display the message \"Thank you\". Incororpate a `while` loop in your code."
   ]
  },
  {
   "cell_type": "code",
   "execution_count": null,
   "metadata": {},
   "outputs": [],
   "source": []
  },
  {
   "cell_type": "markdown",
   "metadata": {},
   "source": [
    "## Functions\n",
    "\n",
    "Functions are reusable blocks of code that perform a specific task. They help in organizing code, making it more readable and maintainable. Functions can take inputs, called parameters, and can return outputs. In Python, functions are defined using the `def` keyword.\n",
    "\n",
    "Here's an example of a function that computes the Fibonacci sequence up to a given number of terms:\n"
   ]
  },
  {
   "cell_type": "code",
   "execution_count": 2,
   "metadata": {},
   "outputs": [
    {
     "name": "stdout",
     "output_type": "stream",
     "text": [
      "[1, 1, 2, 3, 5, 8, 13, 21, 34, 55]\n"
     ]
    }
   ],
   "source": [
    "def fibonacci(n):\n",
    "    sequence = []\n",
    "    a, b = 1, 1\n",
    "    while len(sequence) < n:\n",
    "        sequence.append(a)\n",
    "        a, b = b, a + b\n",
    "    return sequence\n",
    "\n",
    "# Example usage:\n",
    "num_terms = 10\n",
    "print(fibonacci(num_terms))"
   ]
  },
  {
   "cell_type": "markdown",
   "metadata": {
    "vscode": {
     "languageId": "markdown"
    }
   },
   "source": [
    "### **Problem 8**\n",
    "\n",
    "Define a function named `factorial` that takes a single integer `n` as an argument and returns the factorial of `n`. The factorial of a non-negative integer `n` is the product of all positive integers less than or equal to `n`. For example, the factorial of 5 is `5 * 4 * 3 * 2 * 1 = 120`.\n",
    "\n",
    "After defining the function, use it to compute and print the factorial of `1`, `3`, and `10`."
   ]
  },
  {
   "cell_type": "code",
   "execution_count": null,
   "metadata": {
    "vscode": {
     "languageId": "markdown"
    }
   },
   "outputs": [],
   "source": []
  }
 ],
 "metadata": {
  "kernelspec": {
   "display_name": "tf",
   "language": "python",
   "name": "python3"
  },
  "language_info": {
   "codemirror_mode": {
    "name": "ipython",
    "version": 3
   },
   "file_extension": ".py",
   "mimetype": "text/x-python",
   "name": "python",
   "nbconvert_exporter": "python",
   "pygments_lexer": "ipython3",
   "version": "3.10.13"
  }
 },
 "nbformat": 4,
 "nbformat_minor": 2
}
